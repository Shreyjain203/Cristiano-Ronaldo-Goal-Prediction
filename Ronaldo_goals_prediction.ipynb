{
 "cells": [
  {
   "cell_type": "code",
   "execution_count": 1,
   "metadata": {},
   "outputs": [],
   "source": [
    "import pandas as pd\n"
   ]
  },
  {
   "cell_type": "code",
   "execution_count": 2,
   "metadata": {},
   "outputs": [],
   "source": [
    "##Importing Data"
   ]
  },
  {
   "cell_type": "code",
   "execution_count": 3,
   "metadata": {},
   "outputs": [],
   "source": [
    "data= pd.read_csv(\"data.csv\")"
   ]
  },
  {
   "cell_type": "code",
   "execution_count": 4,
   "metadata": {},
   "outputs": [],
   "source": [
    "result1=data[pd.isnull(data[\"is_goal\"])]"
   ]
  },
  {
   "cell_type": "markdown",
   "metadata": {},
   "source": [
    "# Creating solution df as result1"
   ]
  },
  {
   "cell_type": "code",
   "execution_count": 5,
   "metadata": {},
   "outputs": [],
   "source": [
    "data.sort_values(\"is_goal\", inplace = True) "
   ]
  },
  {
   "cell_type": "code",
   "execution_count": 6,
   "metadata": {},
   "outputs": [],
   "source": [
    "data=data.dropna(subset=[\"is_goal\"])"
   ]
  },
  {
   "cell_type": "code",
   "execution_count": 7,
   "metadata": {},
   "outputs": [],
   "source": [
    "\n",
    "#area of shot\n",
    "left=data['area_of_shot'].str.contains('Left').sum()\n",
    "right=data['area_of_shot'].str.contains('Right').sum()\n",
    "center=data['area_of_shot'].str.contains('Center').sum()\n",
    "left_center=data['area_of_shot'].str.contains('LC').sum()\n",
    "right_center=data['area_of_shot'].str.contains('RC').sum()\n",
    "mid=data['area_of_shot'].str.contains('Mid').sum()\n",
    "\n",
    "left=left-left_center\n",
    "right=right-right_center\n",
    "center=center-(left_center+right_center)\n",
    "\n",
    "#range of shot\n",
    "r_24=data['range_of_shot'].str.contains('24').sum()\n",
    "r_16=data['range_of_shot'].str.contains('16').sum()\n",
    "r_8=data['range_of_shot'].str.contains('8').sum()\n",
    "r_less=data['range_of_shot'].str.contains('Less').sum()\n",
    "r_back=data['range_of_shot'].str.contains('Back').sum()\n",
    "\n",
    "r_8=r_8-r_less\n",
    "r_16=r_16-r_8\n",
    "r_24=r_24-r_16\n",
    "\n",
    "#shot basis\n",
    "goal_area=data['shot_basics'].str.contains('Area').sum()\n",
    "goal_line=data['shot_basics'].str.contains('Line').sum()\n",
    "left_corner=data['shot_basics'].str.contains('Left').sum()\n",
    "mid_ground=data['shot_basics'].str.contains('Ground').sum()\n",
    "mid_range=data['shot_basics'].str.contains('Range').sum()\n",
    "penalty_spot=data['shot_basics'].str.contains('Penalty').sum()\n",
    "right_corner=data['shot_basics'].str.contains('Right').sum()\n",
    "\n",
    "goal_line=goal_line-mid_ground\n",
    "\n",
    "\n",
    "#knockout\n",
    "is_knockout=data[data['knockout_match'] == 1]['knockout_match'].count()\n",
    "not_knockout=data[data['knockout_match'] == 0]['knockout_match'].count()"
   ]
  },
  {
   "cell_type": "code",
   "execution_count": 8,
   "metadata": {},
   "outputs": [],
   "source": [
    "data_1=data.loc[data['is_goal'] == 1]\n",
    "\n",
    "#area of shot\n",
    "left_1=data_1['area_of_shot'].str.contains('Left').sum()\n",
    "right_1=data_1['area_of_shot'].str.contains('Right').sum()\n",
    "center_1=data_1['area_of_shot'].str.contains('Center').sum()\n",
    "left_center_1=data_1['area_of_shot'].str.contains('LC').sum()\n",
    "right_center_1=data_1['area_of_shot'].str.contains('RC').sum()\n",
    "mid_1=data_1['area_of_shot'].str.contains('Mid').sum()\n",
    "\n",
    "left_1=left_1-left_center_1\n",
    "right_1=right_1-right_center_1\n",
    "center_1=center_1-(left_center_1+right_center_1)\n",
    "\n",
    "#range of shot\n",
    "r_24_1=data_1['range_of_shot'].str.contains('24').sum()\n",
    "r_16_1=data_1['range_of_shot'].str.contains('16').sum()\n",
    "r_8_1=data_1['range_of_shot'].str.contains('8').sum()\n",
    "r_less_1=data_1['range_of_shot'].str.contains('Less').sum()\n",
    "r_back_1=data_1['range_of_shot'].str.contains('Back').sum()\n",
    "\n",
    "r_8_1=r_8_1-r_less_1\n",
    "r_16_1=r_16_1-r_8_1\n",
    "r_24_1=r_24_1-r_16_1\n",
    "\n",
    "#shot basis\n",
    "goal_area_1=data_1['shot_basics'].str.contains('Area').sum()\n",
    "goal_line_1=data_1['shot_basics'].str.contains('Line').sum()\n",
    "left_corner_1=data_1['shot_basics'].str.contains('Left').sum()\n",
    "mid_ground_1=data_1['shot_basics'].str.contains('Ground').sum()\n",
    "mid_range_1=data_1['shot_basics'].str.contains('Range').sum()\n",
    "penalty_spot_1=data_1['shot_basics'].str.contains('Penalty').sum()\n",
    "right_corner_1=data_1['shot_basics'].str.contains('Right').sum()\n",
    "\n",
    "goal_line_1=goal_line_1-mid_ground_1\n",
    "\n",
    "\n",
    "#knockout\n",
    "is_knockout_1=data_1[data_1['knockout_match'] == 1]['knockout_match'].count()\n",
    "not_knockout_1=data_1[data_1['knockout_match'] == 0]['knockout_match'].count()"
   ]
  },
  {
   "cell_type": "code",
   "execution_count": 9,
   "metadata": {},
   "outputs": [],
   "source": [
    "prob_left=left_1/left\n",
    "prob_right=right_1/right\n",
    "prob_center=center_1/center\n",
    "prob_left_center=left_center_1/left_center\n",
    "prob_right_center=right_center_1/right_center\n",
    "prob_mid=mid_1/mid\n",
    "\n",
    "prob_r_24=r_24_1/r_24\n",
    "prob_r_16=r_16_1/r_16\n",
    "prob_r_8=r_8_1/r_8\n",
    "prob_r_less=r_less_1/r_less\n",
    "prob_r_back=r_back_1/r_back\n",
    "\n",
    "prob_goal_area=goal_area_1/goal_area\n",
    "prob_goal_line=goal_line_1/goal_line\n",
    "prob_left_corner=left_corner_1/left_corner\n",
    "prob_mid_ground=mid_ground_1/mid_ground\n",
    "prob_mid_range=mid_range_1/mid_range\n",
    "prob_penalty_spot=penalty_spot_1/penalty_spot\n",
    "prob_right_corner=right_corner_1/right_corner\n",
    "prob_goal_line=goal_line_1/goal_line\n",
    "\n",
    "prob_is_knockout=is_knockout_1/is_knockout\n",
    "prob_not_knockout=not_knockout_1/not_knockout"
   ]
  },
  {
   "cell_type": "code",
   "execution_count": 10,
   "metadata": {},
   "outputs": [],
   "source": [
    "result1[\"area_of_shot\"]=result1[\"area_of_shot\"].map({'Left Side(L)': prob_left,'Right Side(R)': prob_right, 'Center(C)': prob_center,'Left Side Center(LC)':prob_left_center,'Right Side Center(RC)':prob_right_center, 'Mid Ground':prob_mid })\n",
    "result1[\"range_of_shot\"]=result1[\"range_of_shot\"].map({'24+ ft.': prob_r_24,'16-24 ft.': prob_r_16, '8-16 ft.': prob_r_8,'Less Than 8 ft.':prob_r_less,'Back Court Shot':prob_r_back })\n",
    "result1[\"shot_basics\"]=result1[\"shot_basics\"].map({'Goal Area': prob_goal_area,'Goal Line': prob_goal_line, 'Left Corner': prob_left_corner,'Mid Ground Line':prob_mid_ground,'Mid Range':prob_mid_range, 'Penalty Spot':prob_penalty_spot, 'Right Corner':prob_right_corner, 'Goal Line':prob_goal_line })\n",
    "result1[\"knockout_match\"]=result1[\"knockout_match\"].map({0: prob_is_knockout, 1: prob_not_knockout})\n"
   ]
  },
  {
   "cell_type": "code",
   "execution_count": 11,
   "metadata": {},
   "outputs": [],
   "source": [
    "result1['nan_count'] = result1[['knockout_match',\"shot_basics\",\"range_of_shot\",\"area_of_shot\"]].isnull().sum(axis=1)"
   ]
  },
  {
   "cell_type": "code",
   "execution_count": 12,
   "metadata": {},
   "outputs": [],
   "source": [
    "result1['divident']=(4- result1[\"nan_count\"])"
   ]
  },
  {
   "cell_type": "code",
   "execution_count": 13,
   "metadata": {},
   "outputs": [],
   "source": [
    "result1['is_goal']=(result1[\"area_of_shot\"].fillna(0)+result1[\"range_of_shot\"].fillna(0)+result1[\"shot_basics\"].fillna(0)+result1[\"knockout_match\"].fillna(0))/result1['divident']"
   ]
  },
  {
   "cell_type": "code",
   "execution_count": 14,
   "metadata": {},
   "outputs": [],
   "source": [
    "result1[\"Index\"] = result1[\"Index\"] +1"
   ]
  },
  {
   "cell_type": "code",
   "execution_count": null,
   "metadata": {},
   "outputs": [],
   "source": []
  },
  {
   "cell_type": "code",
   "execution_count": 15,
   "metadata": {},
   "outputs": [],
   "source": [
    "result1[[\"Index\",\"is_goal\"]].to_csv(\"Result_Rona1.csv\",index = False)"
   ]
  },
  {
   "cell_type": "code",
   "execution_count": null,
   "metadata": {},
   "outputs": [],
   "source": []
  }
 ],
 "metadata": {
  "kernelspec": {
   "display_name": "Python 3",
   "language": "python",
   "name": "python3"
  },
  "language_info": {
   "codemirror_mode": {
    "name": "ipython",
    "version": 3
   },
   "file_extension": ".py",
   "mimetype": "text/x-python",
   "name": "python",
   "nbconvert_exporter": "python",
   "pygments_lexer": "ipython3",
   "version": "3.7.3"
  }
 },
 "nbformat": 4,
 "nbformat_minor": 2
}
